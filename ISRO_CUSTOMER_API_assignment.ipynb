{
 "cells": [
  {
   "cell_type": "code",
   "execution_count": 23,
   "id": "133a9e78",
   "metadata": {},
   "outputs": [],
   "source": [
    "import requests\n",
    "import matplotlib.pyplot as plt"
   ]
  },
  {
   "cell_type": "code",
   "execution_count": 13,
   "id": "224256a0",
   "metadata": {},
   "outputs": [],
   "source": [
    "url1=requests.get(\"https://isro.vercel.app/api/customer_satellites\")\n",
    "url2=requests.get(\"https://isro.vercel.app/api/spacecrafts\")\n",
    "foregn=url1.json()\n",
    "own=url2.json()"
   ]
  },
  {
   "cell_type": "code",
   "execution_count": 20,
   "id": "e5349d14",
   "metadata": {},
   "outputs": [
    {
     "name": "stdout",
     "output_type": "stream",
     "text": [
      "own keys  dict_keys(['spacecrafts'])\n",
      "foregn keys dict_keys(['customer_satellites'])\n"
     ]
    }
   ],
   "source": [
    "print(\"own keys \",own.keys())\n",
    "print(\"foregn keys\", foregn.keys())"
   ]
  },
  {
   "cell_type": "code",
   "execution_count": 22,
   "id": "44260a5a",
   "metadata": {},
   "outputs": [],
   "source": [
    "setelites=[len(own[\"spacecrafts\"]), len(foregn[\"customer_satellites\"])]\n",
    "names=[\"DOMESTIC\",\"FOREIGN\"]"
   ]
  },
  {
   "cell_type": "code",
   "execution_count": 28,
   "id": "23fc869c",
   "metadata": {},
   "outputs": [
    {
     "data": {
      "image/png": "[encoded data removed]",
      "text/plain": [
       "<Figure size 432x288 with 1 Axes>"
      ]
     },
     "metadata": {},
     "output_type": "display_data"
    }
   ],
   "source": [
    "plt.pie(setelites,labels=names,autopct=\"%1.01f%%\")\n",
    "plt.show()"
   ]
  },
  {
   "cell_type": "code",
   "execution_count": null,
   "id": "cc87b6dd",
   "metadata": {},
   "outputs": [],
   "source": []
  }
 ],
 "metadata": {
  "kernelspec": {
   "display_name": "Python 3 (ipykernel)",
   "language": "python",
   "name": "python3"
  },
  "language_info": {
   "codemirror_mode": {
    "name": "ipython",
    "version": 3
   },
   "file_extension": ".py",
   "mimetype": "text/x-python",
   "name": "python",
   "nbconvert_exporter": "python",
   "pygments_lexer": "ipython3",
   "version": "3.7.9"
  }
 },
 "nbformat": 4,
 "nbformat_minor": 5
}
