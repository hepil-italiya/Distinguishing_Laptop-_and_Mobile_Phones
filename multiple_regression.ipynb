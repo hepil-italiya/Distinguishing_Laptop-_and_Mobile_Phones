{
 "cells": [
  {
   "cell_type": "code",
   "execution_count": 1,
   "id": "d5d64b7c",
   "metadata": {},
   "outputs": [],
   "source": [
    "import pandas as pd\n",
    "from sklearn.linear_model import LinearRegression\n",
    "import numpy as np"
   ]
  },
  {
   "cell_type": "code",
   "execution_count": 2,
   "id": "bfe03f80",
   "metadata": {},
   "outputs": [],
   "source": [
    "data=pd.read_csv(\"D:\\INFOLABZ\\multiple_regression.csv\")\n",
    "data=data.values"
   ]
  },
  {
   "cell_type": "code",
   "execution_count": 3,
   "id": "4e2b2f2e",
   "metadata": {},
   "outputs": [],
   "source": [
    "linear=LinearRegression()\n",
    "output=linear.fit(data[:,:3],data[:,3:])"
   ]
  },
  {
   "cell_type": "code",
   "execution_count": 5,
   "id": "7aef0052",
   "metadata": {},
   "outputs": [
    {
     "name": "stdout",
     "output_type": "stream",
     "text": [
      "      0      1   2        3\n",
      "0  2000   4500  35   450000\n",
      "1  2865   5705  32   713125\n",
      "2  3175   6475  30   971250\n",
      "3  3500   7750  28   124000\n",
      "4  4200   9257  26  1943970\n",
      "5  5000  13450  24  3497000\n"
     ]
    }
   ],
   "source": [
    "print(pd.DataFrame(data))"
   ]
  },
  {
   "cell_type": "code",
   "execution_count": 6,
   "id": "8a87e1b3",
   "metadata": {},
   "outputs": [
    {
     "name": "stdout",
     "output_type": "stream",
     "text": [
      "[[233633.726311]]\n"
     ]
    }
   ],
   "source": [
    "print(linear.predict(np.array([[2000,4500,35]])))"
   ]
  },
  {
   "cell_type": "code",
   "execution_count": null,
   "id": "6b23498c",
   "metadata": {},
   "outputs": [],
   "source": []
  }
 ],
 "metadata": {
  "kernelspec": {
   "display_name": "Python 3 (ipykernel)",
   "language": "python",
   "name": "python3"
  },
  "language_info": {
   "codemirror_mode": {
    "name": "ipython",
    "version": 3
   },
   "file_extension": ".py",
   "mimetype": "text/x-python",
   "name": "python",
   "nbconvert_exporter": "python",
   "pygments_lexer": "ipython3",
   "version": "3.7.9"
  }
 },
 "nbformat": 4,
 "nbformat_minor": 5
}
