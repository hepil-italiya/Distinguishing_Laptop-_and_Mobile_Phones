{
 "cells": [
  {
   "cell_type": "code",
   "execution_count": 1,
   "id": "a1625a3a",
   "metadata": {},
   "outputs": [],
   "source": [
    "import requests"
   ]
  },
  {
   "cell_type": "code",
   "execution_count": 2,
   "id": "3303a587",
   "metadata": {},
   "outputs": [],
   "source": [
    "url=requests.get(\"https://api.coindesk.com/v1/bpi/currentprice.json\")\n",
    "data=url.json()"
   ]
  },
  {
   "cell_type": "code",
   "execution_count": 3,
   "id": "aa10b0cc",
   "metadata": {},
   "outputs": [
    {
     "name": "stdout",
     "output_type": "stream",
     "text": [
      "time\n",
      "disclaimer\n",
      "chartName\n",
      "bpi\n"
     ]
    }
   ],
   "source": [
    "for i in data:\n",
    "    print(i)"
   ]
  },
  {
   "cell_type": "code",
   "execution_count": 8,
   "id": "5cd96e6c",
   "metadata": {},
   "outputs": [
    {
     "data": {
      "text/plain": [
       "{'USD': {'code': 'USD',\n",
       "  'symbol': '&#36;',\n",
       "  'rate': '29,215.5756',\n",
       "  'description': 'United States Dollar',\n",
       "  'rate_float': 29215.5756},\n",
       " 'GBP': {'code': 'GBP',\n",
       "  'symbol': '&pound;',\n",
       "  'rate': '24,412.3012',\n",
       "  'description': 'British Pound Sterling',\n",
       "  'rate_float': 24412.3012},\n",
       " 'EUR': {'code': 'EUR',\n",
       "  'symbol': '&euro;',\n",
       "  'rate': '28,460.2361',\n",
       "  'description': 'Euro',\n",
       "  'rate_float': 28460.2361}}"
      ]
     },
     "execution_count": 8,
     "metadata": {},
     "output_type": "execute_result"
    }
   ],
   "source": [
    "data[\"bpi\"]"
   ]
  },
  {
   "cell_type": "code",
   "execution_count": 11,
   "id": "461c5d0d",
   "metadata": {},
   "outputs": [
    {
     "data": {
      "text/plain": [
       "'29,215.5756'"
      ]
     },
     "execution_count": 11,
     "metadata": {},
     "output_type": "execute_result"
    }
   ],
   "source": [
    "data[\"bpi\"][\"USD\"][\"rate\"]"
   ]
  }
 ],
 "metadata": {
  "kernelspec": {
   "display_name": "Python 3 (ipykernel)",
   "language": "python",
   "name": "python3"
  },
  "language_info": {
   "codemirror_mode": {
    "name": "ipython",
    "version": 3
   },
   "file_extension": ".py",
   "mimetype": "text/x-python",
   "name": "python",
   "nbconvert_exporter": "python",
   "pygments_lexer": "ipython3",
   "version": "3.7.9"
  }
 },
 "nbformat": 4,
 "nbformat_minor": 5
}
