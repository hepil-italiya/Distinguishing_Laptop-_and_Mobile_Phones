{
 "cells": [
  {
   "cell_type": "code",
   "execution_count": 1,
   "id": "fae13d52",
   "metadata": {},
   "outputs": [],
   "source": [
    "import requests"
   ]
  },
  {
   "cell_type": "code",
   "execution_count": 3,
   "id": "aee7313d",
   "metadata": {},
   "outputs": [],
   "source": [
    "url=requests.get(\"https://isro.vercel.app/api/spacecrafts\")\n",
    "data=url.json()"
   ]
  },
  {
   "cell_type": "code",
   "execution_count": 7,
   "id": "a5a3b6bb",
   "metadata": {},
   "outputs": [
    {
     "name": "stdout",
     "output_type": "stream",
     "text": [
      "main key is spacecrafts\n",
      "Total number of main key  1\n"
     ]
    }
   ],
   "source": [
    "count=0\n",
    "for i1 in data:\n",
    "    print(\"main key is \"+i1)\n",
    "    count+=1\n",
    "print(\"Total number of main key \",count)"
   ]
  },
  {
   "cell_type": "code",
   "execution_count": 8,
   "id": "fcec6237",
   "metadata": {},
   "outputs": [
    {
     "name": "stdout",
     "output_type": "stream",
     "text": [
      "0 : Aryabhata\n",
      "1 : Bhaskara-I\n",
      "2 : Rohini Technology Payload (RTP)\n",
      "3 : Rohini Satellite RS-1\n",
      "4 : Rohini Satellite RS-D1\n",
      "5 : APPLE\n",
      "6 : Bhaskara-II\n",
      "7 : INSAT-1A\n",
      "8 : Rohini Satellite RS-D2\n",
      "9 : INSAT-1B\n",
      "10 : SROSS-1\n",
      "11 : IRS-1A\n",
      "12 : SROSS-2\n",
      "13 : INSAT-1C\n",
      "14 : INSAT-1D\n",
      "15 : IRS-1B\n",
      "16 : SROSS-C\n",
      "17 : INSAT-2A\n",
      "18 : INSAT-2B\n",
      "19 : IRS-1E\n",
      "20 : SROSS-C2\n",
      "21 : IRS-P2\n",
      "22 : INSAT-2C\n",
      "23 : IRS-1C\n",
      "24 : IRS-P3\n",
      "25 : INSAT-2D\n",
      "26 : IRS-1D\n",
      "27 : INSAT-2E\n",
      "28 : Oceansat(IRS-P4)\n",
      "29 : INSAT-3B\n",
      "30 : GSAT-1\n",
      "31 : The Technology Experiment Satellite (TES)\n",
      "32 : INSAT-3C\n",
      "33 : KALPANA-1\n",
      "34 : INSAT-3A\n",
      "35 : GSAT-2\n",
      "36 : INSAT-3E\n",
      "37 : IRS-P6 / RESOURCESAT-1\n",
      "38 : EDUSAT\n",
      "39 : HAMSAT\n",
      "40 : CARTOSAT-1\n",
      "41 : INSAT-4A\n",
      "42 : INSAT-4C\n",
      "43 : SRE-1\n",
      "44 : CARTOSAT-2\n",
      "45 : INSAT-4B\n",
      "46 : INSAT-4CR\n",
      "47 : CARTOSAT – 2A\n",
      "48 : IMS-1\n",
      "49 : Chandrayaan-1\n",
      "50 : RISAT-2\n",
      "51 : Oceansat-2\n",
      "52 : GSAT-4\n",
      "53 : CARTOSAT-2B\n",
      "54 : GSAT-5P\n",
      "55 : YOUTHSAT\n",
      "56 : RESOURCESAT-2\n",
      "57 : GSAT-8\n",
      "58 : GSAT-12\n",
      "59 : Megha-Tropiques\n",
      "60 : RISAT-1\n",
      "61 : GSAT-10\n",
      "62 : SARAL\n",
      "63 : IRNSS-1A\n",
      "64 : INSAT-3D\n",
      "65 : GSAT-7\n",
      "66 : Mars Orbiter Mission Spacecraft\n",
      "67 : GSAT-14\n",
      "68 : IRNSS-1B\n",
      "69 : IRNSS-1C\n",
      "70 : GSAT-16\n",
      "71 : Crew module Atmospheric Re-entry Experiment (CARE)\n",
      "72 : IRNSS-1D\n",
      "73 : GSAT-6\n",
      "74 : Astrosat\n",
      "75 : GSAT-15\n",
      "76 : IRNSS-1E\n",
      "77 : IRNSS-1F\n",
      "78 : IRNSS-1G\n",
      "79 : CARTOSAT-2 Series Satellite\n",
      "80 : INSAT-3DR\n",
      "81 : SCATSAT-1\n",
      "82 : GSAT-18\n",
      "83 : RESOURCESAT-2A\n",
      "84 : INS-1B\n",
      "85 : INS-1A\n",
      "86 : Cartosat -2 Series Satellite\n",
      "87 : GSAT-9\n",
      "88 : GSAT-19\n",
      "89 : Cartosat-2 Series Satellite\n",
      "90 : GSAT-17\n",
      "91 : IRNSS-1H\n",
      "92 : INS-1C\n",
      "93 : Cartosat-2 Series Satellite\n",
      "94 : Microsat\n",
      "95 : GSAT-6A\n",
      "96 : IRNSS-1I\n",
      "97 : GSAT-29\n",
      "98 : HysIS\n",
      "99 : GSAT-11 Mission\n",
      "100 : GSAT-7A\n",
      "101 : Microsat-R\n",
      "102 : GSAT-31\n",
      "103 : EMISAT\n",
      "104 : RISAT-2B\n",
      "105 : Chandrayaan2\n",
      "106 : Cartosat-3\n",
      "107 : RISAT-2BR1\n",
      "108 : GSAT-30\n",
      "109 : EOS-01\n",
      "110 : CMS-01\n",
      "111 : EOS-03\n"
     ]
    }
   ],
   "source": [
    "for i2 in range(len(data[\"spacecrafts\"])):\n",
    "    print(i2,\":\",data[\"spacecrafts\"][i2][\"name\"])"
   ]
  },
  {
   "cell_type": "code",
   "execution_count": 11,
   "id": "895c6acb",
   "metadata": {},
   "outputs": [
    {
     "name": "stdout",
     "output_type": "stream",
     "text": [
      "Enter Spacecraft name: RISAT-2BR1\n",
      "FOUND\n"
     ]
    }
   ],
   "source": [
    "spacecraft_name=input(\"Enter Spacecraft name: \")\n",
    "for i3 in range(len(data[\"spacecrafts\"])):\n",
    "    if data[\"spacecrafts\"][i3][\"name\"]==spacecraft_name:\n",
    "        print(\"FOUND\")\n",
    "        break\n",
    "else:\n",
    "    print(\"NOT FOUND\")"
   ]
  }
 ],
 "metadata": {
  "kernelspec": {
   "display_name": "Python 3 (ipykernel)",
   "language": "python",
   "name": "python3"
  },
  "language_info": {
   "codemirror_mode": {
    "name": "ipython",
    "version": 3
   },
   "file_extension": ".py",
   "mimetype": "text/x-python",
   "name": "python",
   "nbconvert_exporter": "python",
   "pygments_lexer": "ipython3",
   "version": "3.7.9"
  }
 },
 "nbformat": 4,
 "nbformat_minor": 5
}
