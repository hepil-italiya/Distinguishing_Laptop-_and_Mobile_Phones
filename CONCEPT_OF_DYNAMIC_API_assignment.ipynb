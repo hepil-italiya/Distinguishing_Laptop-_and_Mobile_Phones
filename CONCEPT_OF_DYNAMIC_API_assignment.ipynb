{
 "cells": [
  {
   "cell_type": "code",
   "execution_count": 1,
   "id": "d556606b",
   "metadata": {},
   "outputs": [],
   "source": [
    "import requests"
   ]
  },
  {
   "cell_type": "code",
   "execution_count": 2,
   "id": "d5f555d4",
   "metadata": {},
   "outputs": [],
   "source": [
    "url=requests.get(\"https://api.postalpincode.in/pincode/380001\")\n",
    "data=url.json()"
   ]
  },
  {
   "cell_type": "code",
   "execution_count": 15,
   "id": "e4c7fa84",
   "metadata": {},
   "outputs": [
    {
     "data": {
      "text/plain": [
       "dict_keys(['Message', 'Status', 'PostOffice'])"
      ]
     },
     "execution_count": 15,
     "metadata": {},
     "output_type": "execute_result"
    }
   ],
   "source": [
    "data[0].keys()"
   ]
  },
  {
   "cell_type": "code",
   "execution_count": 22,
   "id": "ac9316c3",
   "metadata": {},
   "outputs": [
    {
     "name": "stdout",
     "output_type": "stream",
     "text": [
      "Enter Pincode:384001\n",
      "Basana\n",
      "Dela\n",
      "Dhamanva\n",
      "Gadha\n",
      "Gorad\n",
      "Kansarakui\n",
      "Kherva\n",
      "Lakhvad\n",
      "Mahesana\n",
      "Mahesana Bazar\n",
      "Mahesana JSM\n",
      "Meghaliasana\n",
      "Mitha\n",
      "Nagalpur\n",
      "Piludra\n",
      "Sametra\n",
      "Savala\n",
      "Sobhasan\n",
      "Tareti\n",
      "Udalpur\n",
      "Vadosan\n",
      "Virta\n"
     ]
    }
   ],
   "source": [
    "pincode=int(input(\"Enter Pincode:\"))\n",
    "url=requests.get(\"https://api.postalpincode.in/pincode/\"+str(pincode))\n",
    "data=url.json()\n",
    "for i1 in range(len(data[0][\"PostOffice\"])):\n",
    "    if pincode==int(data[0][\"PostOffice\"][i1][\"Pincode\"]):\n",
    "        print(data[0][\"PostOffice\"][i1][\"Name\"])"
   ]
  },
  {
   "cell_type": "code",
   "execution_count": 21,
   "id": "6f9468fe",
   "metadata": {},
   "outputs": [
    {
     "name": "stdout",
     "output_type": "stream",
     "text": [
      "Enter Pincode:384001\n",
      "URL: https://api.postalpincode.in/pincode/384001\n"
     ]
    }
   ],
   "source": [
    "pincode=int(input(\"Enter Pincode:\"))\n",
    "print(\"URL: https://api.postalpincode.in/pincode/\"+str(pincode))"
   ]
  }
 ],
 "metadata": {
  "kernelspec": {
   "display_name": "Python 3 (ipykernel)",
   "language": "python",
   "name": "python3"
  },
  "language_info": {
   "codemirror_mode": {
    "name": "ipython",
    "version": 3
   },
   "file_extension": ".py",
   "mimetype": "text/x-python",
   "name": "python",
   "nbconvert_exporter": "python",
   "pygments_lexer": "ipython3",
   "version": "3.7.9"
  }
 },
 "nbformat": 4,
 "nbformat_minor": 5
}
