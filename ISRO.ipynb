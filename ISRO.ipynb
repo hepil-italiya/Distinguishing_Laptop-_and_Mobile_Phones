{
 "cells": [
  {
   "cell_type": "code",
   "execution_count": 1,
   "id": "5728aaab",
   "metadata": {},
   "outputs": [],
   "source": [
    "import requests"
   ]
  },
  {
   "cell_type": "code",
   "execution_count": 2,
   "id": "94fc79ae",
   "metadata": {},
   "outputs": [],
   "source": [
    "url=requests.get(\"https://isro.vercel.app/api/spacecrafts\")\n",
    "data=url.json()"
   ]
  },
  {
   "cell_type": "code",
   "execution_count": 3,
   "id": "4114fc4f",
   "metadata": {},
   "outputs": [
    {
     "name": "stdout",
     "output_type": "stream",
     "text": [
      "spacecrafts\n"
     ]
    }
   ],
   "source": [
    "for i in data:\n",
    "    print(i)"
   ]
  },
  {
   "cell_type": "code",
   "execution_count": 12,
   "id": "6d085a8a",
   "metadata": {},
   "outputs": [
    {
     "name": "stdout",
     "output_type": "stream",
     "text": [
      "Total Count =  112\n"
     ]
    }
   ],
   "source": [
    "count=0\n",
    "for j in range(0,len(data[\"spacecrafts\"])):\n",
    "    count=count+1\n",
    "print(\"Total Count = \",count)"
   ]
  },
  {
   "cell_type": "code",
   "execution_count": 13,
   "id": "ba56c77a",
   "metadata": {},
   "outputs": [
    {
     "name": "stdout",
     "output_type": "stream",
     "text": [
      "ID : 1 Name : Aryabhata\n",
      "ID : 2 Name : Bhaskara-I\n",
      "ID : 3 Name : Rohini Technology Payload (RTP)\n",
      "ID : 4 Name : Rohini Satellite RS-1\n",
      "ID : 5 Name : Rohini Satellite RS-D1\n",
      "ID : 6 Name : APPLE\n",
      "ID : 7 Name : Bhaskara-II\n",
      "ID : 8 Name : INSAT-1A\n",
      "ID : 9 Name : Rohini Satellite RS-D2\n",
      "ID : 10 Name : INSAT-1B\n",
      "ID : 11 Name : SROSS-1\n",
      "ID : 12 Name : IRS-1A\n",
      "ID : 13 Name : SROSS-2\n",
      "ID : 14 Name : INSAT-1C\n",
      "ID : 15 Name : INSAT-1D\n",
      "ID : 16 Name : IRS-1B\n",
      "ID : 17 Name : SROSS-C\n",
      "ID : 18 Name : INSAT-2A\n",
      "ID : 19 Name : INSAT-2B\n",
      "ID : 20 Name : IRS-1E\n",
      "ID : 21 Name : SROSS-C2\n",
      "ID : 22 Name : IRS-P2\n",
      "ID : 23 Name : INSAT-2C\n",
      "ID : 24 Name : IRS-1C\n",
      "ID : 25 Name : IRS-P3\n",
      "ID : 26 Name : INSAT-2D\n",
      "ID : 27 Name : IRS-1D\n",
      "ID : 28 Name : INSAT-2E\n",
      "ID : 29 Name : Oceansat(IRS-P4)\n",
      "ID : 30 Name : INSAT-3B\n",
      "ID : 31 Name : GSAT-1\n",
      "ID : 32 Name : The Technology Experiment Satellite (TES)\n",
      "ID : 33 Name : INSAT-3C\n",
      "ID : 34 Name : KALPANA-1\n",
      "ID : 35 Name : INSAT-3A\n",
      "ID : 36 Name : GSAT-2\n",
      "ID : 37 Name : INSAT-3E\n",
      "ID : 38 Name : IRS-P6 / RESOURCESAT-1\n",
      "ID : 39 Name : EDUSAT\n",
      "ID : 40 Name : HAMSAT\n",
      "ID : 41 Name : CARTOSAT-1\n",
      "ID : 42 Name : INSAT-4A\n",
      "ID : 43 Name : INSAT-4C\n",
      "ID : 44 Name : SRE-1\n",
      "ID : 45 Name : CARTOSAT-2\n",
      "ID : 46 Name : INSAT-4B\n",
      "ID : 47 Name : INSAT-4CR\n",
      "ID : 48 Name : CARTOSAT – 2A\n",
      "ID : 49 Name : IMS-1\n",
      "ID : 50 Name : Chandrayaan-1\n",
      "ID : 51 Name : RISAT-2\n",
      "ID : 52 Name : Oceansat-2\n",
      "ID : 53 Name : GSAT-4\n",
      "ID : 54 Name : CARTOSAT-2B\n",
      "ID : 55 Name : GSAT-5P\n",
      "ID : 56 Name : YOUTHSAT\n",
      "ID : 57 Name : RESOURCESAT-2\n",
      "ID : 58 Name : GSAT-8\n",
      "ID : 59 Name : GSAT-12\n",
      "ID : 60 Name : Megha-Tropiques\n",
      "ID : 61 Name : RISAT-1\n",
      "ID : 62 Name : GSAT-10\n",
      "ID : 63 Name : SARAL\n",
      "ID : 64 Name : IRNSS-1A\n",
      "ID : 65 Name : INSAT-3D\n",
      "ID : 66 Name : GSAT-7\n",
      "ID : 67 Name : Mars Orbiter Mission Spacecraft\n",
      "ID : 68 Name : GSAT-14\n",
      "ID : 69 Name : IRNSS-1B\n",
      "ID : 70 Name : IRNSS-1C\n",
      "ID : 71 Name : GSAT-16\n",
      "ID : 72 Name : Crew module Atmospheric Re-entry Experiment (CARE)\n",
      "ID : 73 Name : IRNSS-1D\n",
      "ID : 74 Name : GSAT-6\n",
      "ID : 75 Name : Astrosat\n",
      "ID : 76 Name : GSAT-15\n",
      "ID : 77 Name : IRNSS-1E\n",
      "ID : 78 Name : IRNSS-1F\n",
      "ID : 79 Name : IRNSS-1G\n",
      "ID : 80 Name : CARTOSAT-2 Series Satellite\n",
      "ID : 81 Name : INSAT-3DR\n",
      "ID : 82 Name : SCATSAT-1\n",
      "ID : 83 Name : GSAT-18\n",
      "ID : 84 Name : RESOURCESAT-2A\n",
      "ID : 85 Name : INS-1B\n",
      "ID : 86 Name : INS-1A\n",
      "ID : 87 Name : Cartosat -2 Series Satellite\n",
      "ID : 88 Name : GSAT-9\n",
      "ID : 89 Name : GSAT-19\n",
      "ID : 90 Name : Cartosat-2 Series Satellite\n",
      "ID : 91 Name : GSAT-17\n",
      "ID : 92 Name : IRNSS-1H\n",
      "ID : 93 Name : INS-1C\n",
      "ID : 94 Name : Cartosat-2 Series Satellite\n",
      "ID : 95 Name : Microsat\n",
      "ID : 96 Name : GSAT-6A\n",
      "ID : 97 Name : IRNSS-1I\n",
      "ID : 98 Name : GSAT-29\n",
      "ID : 99 Name : HysIS\n",
      "ID : 100 Name : GSAT-11 Mission\n",
      "ID : 101 Name : GSAT-7A\n",
      "ID : 102 Name : Microsat-R\n",
      "ID : 103 Name : GSAT-31\n",
      "ID : 104 Name : EMISAT\n",
      "ID : 105 Name : RISAT-2B\n",
      "ID : 106 Name : Chandrayaan2\n",
      "ID : 107 Name : Cartosat-3\n",
      "ID : 108 Name : RISAT-2BR1\n",
      "ID : 109 Name : GSAT-30\n",
      "ID : 110 Name : EOS-01\n",
      "ID : 111 Name : CMS-01\n",
      "ID : 112 Name : EOS-03\n"
     ]
    }
   ],
   "source": [
    "for n in range(0,len(data[\"spacecrafts\"])):\n",
    "    print(\"ID : \"+str(data[\"spacecrafts\"][n][\"id\"])+\" Name : \"+data[\"spacecrafts\"][n][\"name\"])"
   ]
  },
  {
   "cell_type": "code",
   "execution_count": 16,
   "id": "a992cb2b",
   "metadata": {},
   "outputs": [
    {
     "name": "stdout",
     "output_type": "stream",
     "text": [
      "Enter ID= 16\n",
      "Searching ID is 16 for name is =IRS-1B\n"
     ]
    }
   ],
   "source": [
    "ID=int(input(\"Enter ID= \"))\n",
    "for m in range(0,len(data[\"spacecrafts\"])):\n",
    "    if data[\"spacecrafts\"][m][\"id\"]==ID:\n",
    "        print(\"Searching ID is \"+str(data[\"spacecrafts\"][m][\"id\"])+\" for name is =\"+data[\"spacecrafts\"][m][\"name\"])\n",
    "        break\n",
    "else:\n",
    "    print(str(ID)+ \"is not found.....\")"
   ]
  },
  {
   "cell_type": "code",
   "execution_count": null,
   "id": "e58032a4",
   "metadata": {},
   "outputs": [],
   "source": []
  }
 ],
 "metadata": {
  "kernelspec": {
   "display_name": "Python 3 (ipykernel)",
   "language": "python",
   "name": "python3"
  },
  "language_info": {
   "codemirror_mode": {
    "name": "ipython",
    "version": 3
   },
   "file_extension": ".py",
   "mimetype": "text/x-python",
   "name": "python",
   "nbconvert_exporter": "python",
   "pygments_lexer": "ipython3",
   "version": "3.7.9"
  }
 },
 "nbformat": 4,
 "nbformat_minor": 5
}
