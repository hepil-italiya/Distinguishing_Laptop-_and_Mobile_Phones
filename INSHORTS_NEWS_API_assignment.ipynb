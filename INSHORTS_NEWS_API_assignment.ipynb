{
 "cells": [
  {
   "cell_type": "code",
   "execution_count": 2,
   "id": "9c52748e",
   "metadata": {},
   "outputs": [],
   "source": [
    "import requests "
   ]
  },
  {
   "cell_type": "code",
   "execution_count": 3,
   "id": "022d16cf",
   "metadata": {},
   "outputs": [],
   "source": [
    "url=requests.get(\"https://inshortsapi.vercel.app/news?category=all\")\n",
    "data=url.json()"
   ]
  },
  {
   "cell_type": "code",
   "execution_count": 4,
   "id": "8d43acf4",
   "metadata": {},
   "outputs": [
    {
     "name": "stdout",
     "output_type": "stream",
     "text": [
      "Total key is=\n",
      "category\n",
      "data\n",
      "success\n"
     ]
    }
   ],
   "source": [
    "print(\"Total key is=\")\n",
    "for i1 in data:\n",
    "    print(i1)"
   ]
  },
  {
   "cell_type": "code",
   "execution_count": 5,
   "id": "2a2a690f",
   "metadata": {
    "scrolled": true
   },
   "outputs": [
    {
     "name": "stdout",
     "output_type": "stream",
     "text": [
      "9 news are available in this API\n"
     ]
    }
   ],
   "source": [
    "print(len(data[\"data\"]),\"news are available in this API\")"
   ]
  },
  {
   "cell_type": "code",
   "execution_count": 6,
   "id": "28887ec8",
   "metadata": {},
   "outputs": [
    {
     "name": "stdout",
     "output_type": "stream",
     "text": [
      "NEWS CONTENT IS After BJP's Amit Malviya claimed that late Indian Air Force (IAF) officer Rajesh Pilot, who was also a Congress leader, dropped bombs in Mizoram on March 5, 1966, his son Congress leader Sachin Pilot said he posted the wrong fact. \"He was commissioned into the IAF only on 29th October 1966,\" Pilot posted along with his father's certificate on Tuesday. , AUTHOR NAME Shalini Ojha, DATE OF NEWS IS  Wednesday, 16 August, 2023\n",
      " \n",
      "NEWS CONTENT IS Two male drunk US tourists were found sleeping inside the Eiffel Tower on Monday after dodging security the previous night. They paid to visit the landmark at around 10:40 pm on Sunday and hopped security barriers while coming down the stairs, police said. The two men were found in an area normally closed to the public by the guards., AUTHOR NAME Athira Sasidharan, DATE OF NEWS IS  Wednesday, 16 August, 2023\n",
      " \n",
      "NEWS CONTENT IS BJP MP Ravi Shankar Prasad said that by renaming Nehru Memorial Museum and Library (NMML) as Prime Ministers Museum and Library (PMML), PM Narendra Modi gave a respectful position to all the PMs. Reacting to Congress' criticism, Prasad said, \"There is a basic difference between thinking of Congress...and PM Narendra Modi. They think that only Nehru ji and family matters.\", AUTHOR NAME Subhangi Singh, DATE OF NEWS IS  Wednesday, 16 August, 2023\n",
      " \n",
      "NEWS CONTENT IS BJP MLC Samrat Choudhary said late PM Atal Bihari Vajpayee had made Nitish Kumar the CM of Bihar. \"It'll be good if [Kumar] remembers this,\" he added. Choudhary was reacting to Kumar's visit to Delhi, where he's set to meet Opposition leaders and visit the 'samadhi' of Vajpayee on his death anniversary. Choudhary said it doesn't matter whosoever Kumar meets., AUTHOR NAME Nidhi Sinha, DATE OF NEWS IS  Wednesday, 16 August, 2023\n",
      " \n",
      "NEWS CONTENT IS An image of the Nehru Memorial Museum and Library after it was officially renamed as the Prime Ministers Museum and Library Society has surfaced online. The change in name, proposed in June this year, came into effect on Monday, August 14. An official said it was changed \"in tune with the democratisation and diversification of the remit of the society\"., AUTHOR NAME Shalini Ojha, DATE OF NEWS IS  Wednesday, 16 August, 2023\n",
      " \n",
      "NEWS CONTENT IS Bharti Airtel said claims worth ₹45,286.76 crore are under litigation against the company and its subsidiaries in various courts across India. The litigations include a ₹15,178-crore demand, the highest among all claims, for one-time spectrum charges raised by Department of Telecommunications (DoT) in January 2013. The second-highest claim is worth ₹4,439 crore by a subscriber., AUTHOR NAME Ashley Paul, DATE OF NEWS IS  Wednesday, 16 August, 2023\n",
      " \n",
      "NEWS CONTENT IS Karnataka Deputy CM DK Shivakumar has said the party needs to \"build a new team\" for 2024 Lok Sabha elections and 2028 state Assembly elections. Adding that the party needs to prepare a \"good foundation\" for this, he further said, \"We will have to revamp...[Congress state unit] in the days to come [and] we'll have to relieve some ministers.\", AUTHOR NAME Medhaa Gupta, DATE OF NEWS IS  Wednesday, 16 August, 2023\n",
      " \n",
      "NEWS CONTENT IS Chirag Paswan said he is thankful he did a film with actress Kangana Ranaut earlier and not now because he feels she would have thrashed him every day over nepotism if it was now. While talking about nepotism, he added, \"Being born as the son or daughter of a big personality can be your good luck but not your ability.\", AUTHOR NAME Ria Kapoor, DATE OF NEWS IS  Wednesday, 16 August, 2023\n",
      " \n",
      "NEWS CONTENT IS Speaking about transition young cricketers make from under-19 to senior level, ex-India captain Sunil Gavaskar said kids find what \"looks like a piece of cake at under-19 level is more like mud at senior level\". Notably, young players like Yashasvi Jaiswal, Shubman Gill, Ishan Kishan, Mukesh Kumar played against West Indies. India lost the T20I series 2-3., AUTHOR NAME Bhuvnesh Ojha, DATE OF NEWS IS  Wednesday, 16 August, 2023\n",
      " \n"
     ]
    }
   ],
   "source": [
    "for i2 in range(len(data[\"data\"])):\n",
    "    print(\"NEWS CONTENT IS \"+data[\"data\"][i2][\"content\"]+ \", AUTHOR NAME \"+data[\"data\"][i2][\"author\"]+\", DATE OF NEWS IS \",data[\"data\"][i2][\"date\"])\n",
    "    print(\" \")"
   ]
  },
  {
   "cell_type": "code",
   "execution_count": null,
   "id": "46aeb31e",
   "metadata": {},
   "outputs": [],
   "source": []
  }
 ],
 "metadata": {
  "kernelspec": {
   "display_name": "Python 3 (ipykernel)",
   "language": "python",
   "name": "python3"
  },
  "language_info": {
   "codemirror_mode": {
    "name": "ipython",
    "version": 3
   },
   "file_extension": ".py",
   "mimetype": "text/x-python",
   "name": "python",
   "nbconvert_exporter": "python",
   "pygments_lexer": "ipython3",
   "version": "3.7.9"
  }
 },
 "nbformat": 4,
 "nbformat_minor": 5
}
