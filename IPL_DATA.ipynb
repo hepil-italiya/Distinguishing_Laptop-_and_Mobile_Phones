{
 "cells": [
  {
   "cell_type": "code",
   "execution_count": 1,
   "id": "a0496e92",
   "metadata": {},
   "outputs": [],
   "source": [
    "import xlrd \n",
    "import matplotlib.pyplot as plt"
   ]
  },
  {
   "cell_type": "code",
   "execution_count": 2,
   "id": "51ed6760",
   "metadata": {},
   "outputs": [],
   "source": [
    "xlrd.xlsx.ensure_elementtree_imported(False,None)\n",
    "xlrd.xlsx.Element_has_iter=True"
   ]
  },
  {
   "cell_type": "code",
   "execution_count": 3,
   "id": "d28e4a3a",
   "metadata": {},
   "outputs": [],
   "source": [
    "wb=xlrd.open_workbook(\"D:\\INFOLABZ\\IPL.xlsx\")\n",
    "data=wb.sheet_by_index(0)"
   ]
  },
  {
   "cell_type": "code",
   "execution_count": 6,
   "id": "aeaa77b0",
   "metadata": {},
   "outputs": [
    {
     "name": "stdout",
     "output_type": "stream",
     "text": [
      "Total rows = 15\n",
      "Total columns = 6\n",
      "\n",
      "Player name is...\n",
      "2 . BUTTLER\n",
      "3 . RAHUL\n",
      "4 . DEKOCK\n",
      "5 . HARDIK\n",
      "6 . MILLER\n"
     ]
    }
   ],
   "source": [
    "print(\"Total rows =\",data.nrows)\n",
    "print(\"Total columns =\",data.ncols)\n",
    "\n",
    "print(\"\\nPlayer name is...\")\n",
    "for i in range(1,data.ncols):\n",
    "    print(i+1,\".\",data.cell_value(0,i))"
   ]
  },
  {
   "cell_type": "code",
   "execution_count": 6,
   "id": "7aca2856",
   "metadata": {},
   "outputs": [
    {
     "data": {
      "text/plain": [
       "71.0"
      ]
     },
     "execution_count": 6,
     "metadata": {},
     "output_type": "execute_result"
    }
   ],
   "source": [
    "data.cell_value(3,1)"
   ]
  },
  {
   "cell_type": "code",
   "execution_count": 10,
   "id": "978859a0",
   "metadata": {},
   "outputs": [
    {
     "data": {
      "text/plain": [
       "15"
      ]
     },
     "execution_count": 10,
     "metadata": {},
     "output_type": "execute_result"
    }
   ],
   "source": [
    "data.nrows"
   ]
  },
  {
   "cell_type": "code",
   "execution_count": 13,
   "id": "1a922397",
   "metadata": {},
   "outputs": [
    {
     "data": {
      "text/plain": [
       "6"
      ]
     },
     "execution_count": 13,
     "metadata": {},
     "output_type": "execute_result"
    }
   ],
   "source": [
    "data.ncols"
   ]
  },
  {
   "cell_type": "code",
   "execution_count": 23,
   "id": "30cfbe17",
   "metadata": {},
   "outputs": [
    {
     "name": "stdout",
     "output_type": "stream",
     "text": [
      "ENTER PLAYER NAME: RAHUL\n",
      "0.0\n",
      "40.0\n",
      "68.0\n",
      "24.0\n",
      "0.0\n",
      "103.0\n",
      "30.0\n",
      "103.0\n",
      "6.0\n",
      "77.0\n",
      "0.0\n",
      "8.0\n",
      "10.0\n",
      "68.0\n"
     ]
    }
   ],
   "source": [
    "name=input(\"ENTER PLAYER NAME: \")\n",
    "\n",
    "for i in range(1,data.ncols):\n",
    "    if name== data.cell_value(0,i):\n",
    "        for j in range(1,data.nrows):\n",
    "            print(data.cell_value(j,i))\n",
    "            \n",
    "        break\n",
    "else:\n",
    "    print(\"PLAYER NOT FOUND.....\")\n",
    "            "
   ]
  },
  {
   "cell_type": "code",
   "execution_count": 33,
   "id": "776b1c0e",
   "metadata": {
    "scrolled": true
   },
   "outputs": [
    {
     "name": "stdout",
     "output_type": "stream",
     "text": [
      "Match 1\n",
      "Score of BUTTLER is 35.0\n",
      "Score of RAHUL is 0.0\n",
      "Score of DEKOCK is 7.0\n",
      "Score of HARDIK is 33.0\n",
      "Score of MILLER is 30.0\n",
      "Match 2\n",
      "Score of BUTTLER is 100.0\n",
      "Score of RAHUL is 40.0\n",
      "Score of DEKOCK is 61.0\n",
      "Score of HARDIK is 31.0\n",
      "Score of MILLER is 20.0\n",
      "Match 3\n",
      "Score of BUTTLER is 71.0\n",
      "Score of RAHUL is 68.0\n",
      "Score of DEKOCK is 1.0\n",
      "Score of HARDIK is 27.0\n",
      "Score of MILLER is 6.0\n",
      "Match 4\n",
      "Score of BUTTLER is 12.0\n",
      "Score of RAHUL is 24.0\n",
      "Score of DEKOCK is 80.0\n",
      "Score of HARDIK is 50.0\n",
      "Score of MILLER is 12.0\n",
      "Match 5\n",
      "Score of BUTTLER is 54.0\n",
      "Score of RAHUL is 0.0\n",
      "Score of DEKOCK is 39.0\n",
      "Score of HARDIK is 87.0\n",
      "Score of MILLER is 31.0\n",
      "Match 6\n",
      "Score of BUTTLER is 103.0\n",
      "Score of RAHUL is 103.0\n",
      "Score of DEKOCK is 24.0\n",
      "Score of HARDIK is 67.0\n",
      "Score of MILLER is 94.0\n",
      "Match 7\n",
      "Score of BUTTLER is 116.0\n",
      "Score of RAHUL is 30.0\n",
      "Score of DEKOCK is 3.0\n",
      "Score of HARDIK is 10.0\n",
      "Score of MILLER is 27.0\n",
      "Match 8\n",
      "Score of BUTTLER is 8.0\n",
      "Score of RAHUL is 103.0\n",
      "Score of DEKOCK is 10.0\n",
      "Score of HARDIK is 3.0\n",
      "Score of MILLER is 17.0\n",
      "Match 9\n",
      "Score of BUTTLER is 67.0\n",
      "Score of RAHUL is 6.0\n",
      "Score of DEKOCK is 46.0\n",
      "Score of HARDIK is 1.0\n",
      "Score of MILLER is 39.0\n",
      "Match 10\n",
      "Score of BUTTLER is 22.0\n",
      "Score of RAHUL is 77.0\n",
      "Score of DEKOCK is 23.0\n",
      "Score of HARDIK is 24.0\n",
      "Score of MILLER is 11.0\n",
      "Match 11\n",
      "Score of BUTTLER is 30.0\n",
      "Score of RAHUL is 0.0\n",
      "Score of DEKOCK is 50.0\n",
      "Score of HARDIK is 11.0\n",
      "Score of MILLER is 19.0\n",
      "Match 12\n",
      "Score of BUTTLER is 7.0\n",
      "Score of RAHUL is 8.0\n",
      "Score of DEKOCK is 11.0\n",
      "Score of HARDIK is 7.0\n",
      "Score of MILLER is 26.0\n",
      "Match 13\n",
      "Score of BUTTLER is 2.0\n",
      "Score of RAHUL is 10.0\n",
      "Score of DEKOCK is 7.0\n",
      "Score of HARDIK is 62.0\n",
      "Score of MILLER is 15.0\n",
      "Match 14\n",
      "Score of BUTTLER is 2.0\n",
      "Score of RAHUL is 68.0\n",
      "Score of DEKOCK is 140.0\n",
      "Score of HARDIK is 40.0\n",
      "Score of MILLER is 34.0\n"
     ]
    }
   ],
   "source": [
    "for i in range(1,data.nrows):\n",
    "    print(\"Match \"+str(i))\n",
    "    for j in range(1,data.ncols):\n",
    "        print(\"Score of \"+ data.cell_value(0,j)+\" is \"+ str(data.cell_value(i,j)))"
   ]
  },
  {
   "cell_type": "markdown",
   "id": "6288aae6",
   "metadata": {},
   "source": [
    "# Allow user to insert player name, print taotal, high score , low score and average player - 1/8/2023"
   ]
  },
  {
   "cell_type": "code",
   "execution_count": 45,
   "id": "1894689d",
   "metadata": {},
   "outputs": [
    {
     "name": "stdout",
     "output_type": "stream",
     "text": [
      "Enter player name =MILLER\n",
      "Total score of MILLER is  381.0\n",
      "High score of MILLER is  94.0\n",
      "Low score of MILLER is  6.0\n",
      "Average score of MILLER is  25.4\n"
     ]
    }
   ],
   "source": [
    "score=[]\n",
    "sums=0\n",
    "player_name=input(\"Enter player name =\")\n",
    "for i in range(1,data.ncols):\n",
    "    if player_name==data.cell_value(0,i):\n",
    "        for j in range(1,data.nrows):\n",
    "            score.append(data.cell_value(j,i))\n",
    "            \n",
    "print(\"Total score of \"+data.cell_value(0,i)+\" is \",sum(score))\n",
    "print(\"High score of \"+data.cell_value(0,i)+\" is \",max(score))\n",
    "print(\"Low score of \"+data.cell_value(0,i)+\" is \",min(score))\n",
    "print(\"Average score of \"+data.cell_value(0,i)+\" is \",sum(score)/data.nrows)"
   ]
  },
  {
   "cell_type": "markdown",
   "id": "4fd2a3e3",
   "metadata": {},
   "source": [
    "# Enter match number , print higscore along with player name - 1/8/2023"
   ]
  },
  {
   "cell_type": "code",
   "execution_count": 52,
   "id": "110a805a",
   "metadata": {},
   "outputs": [
    {
     "name": "stdout",
     "output_type": "stream",
     "text": [
      "Enter Match Number= 8\n",
      "8 High score byBUTTLER with score  103.0\n"
     ]
    }
   ],
   "source": [
    "match_number=int(input(\"Enter Match Number= \"))\n",
    "match_score=[]\n",
    "for i in range(data.nrows):\n",
    "    if match_number==data.cell_value(i,0):\n",
    "        for j in range(1,data.ncols):\n",
    "            match_score.append(data.cell_value(i,j))\n",
    "            \n",
    "print(match_number, \"High score by\" + data.cell_value(0,match_score.index(max(match_score)))+\" with score \", max(match_score))"
   ]
  },
  {
   "cell_type": "markdown",
   "id": "82aa20ba",
   "metadata": {},
   "source": [
    "# in which match DHAWAN scored 101 ?=> match number - 1/8/2023"
   ]
  },
  {
   "cell_type": "code",
   "execution_count": 62,
   "id": "d369c36b",
   "metadata": {},
   "outputs": [
    {
     "name": "stdout",
     "output_type": "stream",
     "text": [
      "Enter player name with score :MILLER 30\n",
      "Player MILLER perform 30 in match 1.0\n",
      "Player MILLER perform 30 in match 5.0\n",
      "Player MILLER perform 30 in match 6.0\n",
      "Player MILLER perform 30 in match 9.0\n",
      "Player MILLER perform 30 in match 14.0\n"
     ]
    }
   ],
   "source": [
    "player_name,score=input(\"Enter player name with score :\").split(\" \")\n",
    "for i in range(1,data.ncols):\n",
    "    if player_name==data.cell_value(0,i):\n",
    "        for j in range(1,data.nrows):\n",
    "            if int(score) <= int(data.cell_value(j,i)):\n",
    "                print(\"Player \"+player_name+ \" perform \"+score+\" in match\",data.cell_value(j,0))"
   ]
  },
  {
   "cell_type": "markdown",
   "id": "72a582a9",
   "metadata": {},
   "source": [
    "# Enter player name, print bar graph of matches score - 1/8/2023"
   ]
  },
  {
   "cell_type": "code",
   "execution_count": 66,
   "id": "2e749ff0",
   "metadata": {},
   "outputs": [
    {
     "name": "stdout",
     "output_type": "stream",
     "text": [
      "Enter player name:MILLER\n"
     ]
    },
    {
     "data": {
      "image/png": "[encoded data removed]",
      "text/plain": [
       "<Figure size 432x288 with 1 Axes>"
      ]
     },
     "metadata": {},
     "output_type": "display_data"
    }
   ],
   "source": [
    "player_name=input(\"Enter player name:\")\n",
    "score=[]\n",
    "match_number=[]\n",
    "for i in range(1,data.ncols):\n",
    "    if player_name==data.cell_value(0,i):\n",
    "        for j in range(1,data.nrows):\n",
    "            score.append(data.cell_value(j,i))\n",
    "            match_number.append(data.cell_value(j,0))\n",
    "plt.pie(score,labels=match_number)\n",
    "plt.show()"
   ]
  }
 ],
 "metadata": {
  "kernelspec": {
   "display_name": "Python 3 (ipykernel)",
   "language": "python",
   "name": "python3"
  },
  "language_info": {
   "codemirror_mode": {
    "name": "ipython",
    "version": 3
   },
   "file_extension": ".py",
   "mimetype": "text/x-python",
   "name": "python",
   "nbconvert_exporter": "python",
   "pygments_lexer": "ipython3",
   "version": "3.7.9"
  }
 },
 "nbformat": 4,
 "nbformat_minor": 5
}
